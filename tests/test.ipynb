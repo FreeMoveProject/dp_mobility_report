{
 "cells": [
  {
   "cell_type": "code",
   "execution_count": 2,
   "metadata": {},
   "outputs": [],
   "source": [
    "import geopandas as gpd\n",
    "import pandas as pd\n",
    "import datetime\n",
    "import random"
   ]
  },
  {
   "cell_type": "code",
   "execution_count": null,
   "metadata": {},
   "outputs": [],
   "source": [
    "df = gpd.read_file(\"test_data.geojson\")"
   ]
  },
  {
   "cell_type": "code",
   "execution_count": 5,
   "metadata": {},
   "outputs": [],
   "source": [
    "n = int(len(df)/2)"
   ]
  },
  {
   "cell_type": "code",
   "execution_count": 6,
   "metadata": {},
   "outputs": [],
   "source": [
    "df[\"tid\"] = 0\n",
    "df.loc[0:n-1,\"tid\"] = list(range(0,n))\n",
    "df.loc[n:,\"tid\"] = list(range(0,n))"
   ]
  },
  {
   "cell_type": "code",
   "execution_count": 7,
   "metadata": {},
   "outputs": [],
   "source": [
    "start_date = datetime.datetime(2020, 12, 13, 0, 0, 0)\n",
    "end_date = datetime.datetime(2020, 12, 19, 0, 0, 0)\n",
    "\n",
    "df[\"datetime\"] = start_date\n",
    "\n",
    "days_between_dates = (end_date - start_date).days"
   ]
  },
  {
   "cell_type": "code",
   "execution_count": 8,
   "metadata": {},
   "outputs": [],
   "source": [
    "starttimes = df[0:n].datetime.copy().apply(lambda x: x + datetime.timedelta(days=random.randrange(days_between_dates), seconds = random.randrange(24*3600)))\n",
    "endtimes = starttimes.apply(lambda x: x + datetime.timedelta(seconds = random.randrange(120*60)))\n",
    "df[\"datetime\"] = pd.concat([starttimes, endtimes], ignore_index=True)"
   ]
  },
  {
   "cell_type": "code",
   "execution_count": 9,
   "metadata": {},
   "outputs": [],
   "source": [
    "uids = df.groupby(\"tid\").id.apply(lambda x: random.randrange(20))\n",
    "uids.name = \"uid\"\n",
    "df = df.merge(uids, on = \"tid\")"
   ]
  },
  {
   "cell_type": "code",
   "execution_count": 10,
   "metadata": {},
   "outputs": [],
   "source": [
    "df[\"lng\"] = df[\"geometry\"].x\n",
    "df[\"lat\"] = df[\"geometry\"].y"
   ]
  },
  {
   "cell_type": "code",
   "execution_count": 11,
   "metadata": {},
   "outputs": [],
   "source": [
    "df.drop([\"rand_point_id\", \"id\", \"geometry\"], axis = 1, inplace = True)\n",
    "df = df.sort_values([\"uid\", \"tid\", \"datetime\"])[[\"uid\", \"tid\", \"datetime\", \"lat\", \"lng\"]]"
   ]
  },
  {
   "cell_type": "code",
   "execution_count": 12,
   "metadata": {},
   "outputs": [],
   "source": [
    "df.to_csv(\"test_data.csv\", index = False)"
   ]
  },
  {
   "cell_type": "code",
   "execution_count": 23,
   "metadata": {},
   "outputs": [],
   "source": [
    "tessellation = gpd.read_file(\"test_tessellation.geojson\")"
   ]
  },
  {
   "cell_type": "code",
   "execution_count": 27,
   "metadata": {},
   "outputs": [],
   "source": [
    "tessellation.to_file(\"test_tessellation.geojson\", index = False, driver = \"GeoJSON\")"
   ]
  },
  {
   "cell_type": "code",
   "execution_count": 3,
   "metadata": {},
   "outputs": [],
   "source": [
    "df = pd.read_csv(\"test_files/test_data.csv\")"
   ]
  }
 ],
 "metadata": {
  "interpreter": {
   "hash": "12447f89500073fb8dae2639cdf38a923a59a0e886a98dbef10ce1872cef5ac4"
  },
  "kernelspec": {
   "display_name": "Python 3.9.7 64-bit ('md_report': conda)",
   "language": "python",
   "name": "python3"
  },
  "language_info": {
   "codemirror_mode": {
    "name": "ipython",
    "version": 3
   },
   "file_extension": ".py",
   "mimetype": "text/x-python",
   "name": "python",
   "nbconvert_exporter": "python",
   "pygments_lexer": "ipython3",
   "version": "3.9.7"
  },
  "orig_nbformat": 4
 },
 "nbformat": 4,
 "nbformat_minor": 2
}
